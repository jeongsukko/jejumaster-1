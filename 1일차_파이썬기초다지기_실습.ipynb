{
  "cells": [
    {
      "cell_type": "markdown",
      "metadata": {
        "id": "view-in-github",
        "colab_type": "text"
      },
      "source": [
        "<a href=\"https://colab.research.google.com/github/jeongsukko/jejumaster-1/blob/main/1%EC%9D%BC%EC%B0%A8_%ED%8C%8C%EC%9D%B4%EC%8D%AC%EA%B8%B0%EC%B4%88%EB%8B%A4%EC%A7%80%EA%B8%B0_%EC%8B%A4%EC%8A%B5.ipynb\" target=\"_parent\"><img src=\"https://colab.research.google.com/assets/colab-badge.svg\" alt=\"Open In Colab\"/></a>"
      ]
    },
    {
      "cell_type": "markdown",
      "metadata": {
        "id": "zRxHpy-28GGG"
      },
      "source": [
        "# 1일차-파이썬 기초 다지기"
      ]
    },
    {
      "cell_type": "markdown",
      "source": [
        "## 1.파이썬 이해하기"
      ],
      "metadata": {
        "id": "VRVM91mPB34V"
      }
    },
    {
      "cell_type": "markdown",
      "metadata": {
        "id": "hOwZhukd8GGK"
      },
      "source": [
        "### 1-2.파이썬 학습환경 만들기"
      ]
    },
    {
      "cell_type": "markdown",
      "metadata": {
        "id": "HAFtSTG28GGL"
      },
      "source": [
        "#### 파이썬 설치 위치 확인"
      ]
    },
    {
      "cell_type": "code",
      "execution_count": 1,
      "metadata": {
        "id": "46cMOIHW8GGM",
        "outputId": "b21953ec-1478-4df4-effd-46caa2913aa3",
        "colab": {
          "base_uri": "https://localhost:8080/",
          "height": 35
        }
      },
      "outputs": [
        {
          "output_type": "execute_result",
          "data": {
            "text/plain": [
              "'/usr/bin/python3'"
            ],
            "application/vnd.google.colaboratory.intrinsic+json": {
              "type": "string"
            }
          },
          "metadata": {},
          "execution_count": 1
        }
      ],
      "source": [
        "import sys\n",
        "\n",
        "sys.executable"
      ]
    },
    {
      "cell_type": "code",
      "execution_count": 2,
      "metadata": {
        "scrolled": true,
        "id": "CO9pIWvq8GGN",
        "outputId": "3efd5471-ea2f-4b69-d646-8167e57229c4",
        "colab": {
          "base_uri": "https://localhost:8080/"
        }
      },
      "outputs": [
        {
          "output_type": "stream",
          "name": "stdout",
          "text": [
            "['/content', '/env/python', '/usr/lib/python310.zip', '/usr/lib/python3.10', '/usr/lib/python3.10/lib-dynload', '', '/usr/local/lib/python3.10/dist-packages', '/usr/lib/python3/dist-packages', '/usr/local/lib/python3.10/dist-packages/IPython/extensions', '/root/.ipython']\n"
          ]
        }
      ],
      "source": [
        "print(sys.path)"
      ]
    },
    {
      "cell_type": "markdown",
      "source": [
        "### 1-3.파이썬 라이브러리 사용 방법"
      ],
      "metadata": {
        "id": "0ys111OTCLoc"
      }
    },
    {
      "cell_type": "markdown",
      "metadata": {
        "id": "5KtJAiS08GGO"
      },
      "source": [
        "#### 설치된 라이브러리 전체 확인"
      ]
    },
    {
      "cell_type": "code",
      "execution_count": null,
      "metadata": {
        "id": "0bsTdq6y8GGO"
      },
      "outputs": [],
      "source": [
        "pip list"
      ]
    },
    {
      "cell_type": "markdown",
      "metadata": {
        "id": "G_IjDeFh8GGP"
      },
      "source": [
        "#### 특정 라이브러리 설치 확인"
      ]
    },
    {
      "cell_type": "code",
      "execution_count": 3,
      "metadata": {
        "id": "TqvE9YpV8GGP",
        "outputId": "2202c0b2-5d7c-4883-ae93-f08cd84e1a97",
        "colab": {
          "base_uri": "https://localhost:8080/"
        }
      },
      "outputs": [
        {
          "output_type": "stream",
          "name": "stdout",
          "text": [
            "Name: numpy\n",
            "Version: 1.23.5\n",
            "Summary: NumPy is the fundamental package for array computing with Python.\n",
            "Home-page: https://www.numpy.org\n",
            "Author: Travis E. Oliphant et al.\n",
            "Author-email: \n",
            "License: BSD\n",
            "Location: /usr/local/lib/python3.10/dist-packages\n",
            "Requires: \n",
            "Required-by: albumentations, altair, arviz, astropy, autograd, blis, bokeh, bqplot, chex, cmdstanpy, contourpy, cufflinks, cupy-cuda11x, cvxpy, datascience, db-dtypes, dopamine-rl, ecos, flax, folium, geemap, gensim, gym, h5py, holoviews, hyperopt, ibis-framework, imageio, imbalanced-learn, imgaug, jax, jaxlib, librosa, lida, lightgbm, matplotlib, matplotlib-venn, missingno, mizani, ml-dtypes, mlxtend, moviepy, music21, nibabel, numba, numexpr, opencv-contrib-python, opencv-python, opencv-python-headless, opt-einsum, optax, orbax-checkpoint, osqp, pandas, pandas-gbq, patsy, plotnine, prophet, pyarrow, pycocotools, pyerfa, pymc, pytensor, python-louvain, PyWavelets, qdldl, qudida, scikit-image, scikit-learn, scipy, scs, seaborn, shapely, sklearn-pandas, soxr, spacy, stanio, statsmodels, tables, tensorboard, tensorflow, tensorflow-datasets, tensorflow-hub, tensorflow-probability, tensorstore, thinc, tifffile, torchtext, torchvision, wordcloud, xarray, xarray-einstats, xgboost, yellowbrick, yfinance\n"
          ]
        }
      ],
      "source": [
        "pip show numpy"
      ]
    },
    {
      "cell_type": "markdown",
      "source": [
        "#### 라이브러리 설치 및 삭제"
      ],
      "metadata": {
        "id": "KE15Fd6jCbUK"
      }
    },
    {
      "cell_type": "code",
      "source": [
        "# 라이브러리 설치\n",
        "pip install numpy\n",
        "\n",
        "# 라이브러리 삭제\n",
        "# pip uninstall numpy"
      ],
      "metadata": {
        "id": "PlG-i1fYCbdI"
      },
      "execution_count": null,
      "outputs": []
    },
    {
      "cell_type": "markdown",
      "metadata": {
        "id": "6Ef7gKpD8GGP"
      },
      "source": [
        "### 수업에 사용할 라이브러리 일부 설치하기\n",
        "(PC 윈도우 명령프롬프트에서 먼저 실행) pip를 최신으로 업그레이드한 후\n",
        "파이썬 라이브러리를 설치하도록 한다.\n",
        "- python -m pip install --upgrade pip  "
      ]
    },
    {
      "cell_type": "code",
      "execution_count": null,
      "metadata": {
        "colab": {
          "base_uri": "https://localhost:8080/"
        },
        "id": "WnEwfA_x8GGQ",
        "outputId": "776d8469-56cc-4d2b-b4f4-01ca7903c04e"
      },
      "outputs": [
        {
          "output_type": "stream",
          "name": "stdout",
          "text": [
            "Requirement already satisfied: numpy in /usr/local/lib/python3.10/dist-packages (1.23.5)\n"
          ]
        }
      ],
      "source": [
        "!pip install numpy"
      ]
    },
    {
      "cell_type": "markdown",
      "source": [
        "### 1-4.파이썬 기초 입문하기"
      ],
      "metadata": {
        "id": "KstHzAdvG1Cv"
      }
    },
    {
      "cell_type": "markdown",
      "source": [
        "#### 파이썬 오류&예외처리"
      ],
      "metadata": {
        "id": "KSNOrnoMHEjD"
      }
    },
    {
      "cell_type": "code",
      "source": [
        "# Syntax 오류 발생 예\n",
        "a = 1\n",
        "if a < 9\n",
        "    print('a < 9')"
      ],
      "metadata": {
        "colab": {
          "base_uri": "https://localhost:8080/",
          "height": 146
        },
        "id": "B8pmiTi5G8JX",
        "outputId": "aa4a046e-1567-414a-83fa-c3f958e75288"
      },
      "execution_count": null,
      "outputs": [
        {
          "output_type": "error",
          "ename": "SyntaxError",
          "evalue": "ignored",
          "traceback": [
            "\u001b[0;36m  File \u001b[0;32m\"<ipython-input-15-280c9a905a11>\"\u001b[0;36m, line \u001b[0;32m3\u001b[0m\n\u001b[0;31m    if a < 9\u001b[0m\n\u001b[0m            ^\u001b[0m\n\u001b[0;31mSyntaxError\u001b[0m\u001b[0;31m:\u001b[0m expected ':'\n"
          ]
        }
      ]
    },
    {
      "cell_type": "code",
      "source": [
        "# 오류 예외처리\n",
        "while True:\n",
        "    try:\n",
        "        x = int(input('Please enter a number: '))\n",
        "        break\n",
        "\n",
        "    except ValueError:\n",
        "        print('Oops! That was no valid number. Try again...')\n",
        "\n",
        "print('-----')"
      ],
      "metadata": {
        "colab": {
          "base_uri": "https://localhost:8080/",
          "height": 410
        },
        "id": "GJ1Y-0wMHXJd",
        "outputId": "cbb6a6ca-39cc-4e30-fdab-d2a147ccb38d"
      },
      "execution_count": null,
      "outputs": [
        {
          "output_type": "error",
          "ename": "KeyboardInterrupt",
          "evalue": "ignored",
          "traceback": [
            "\u001b[0;31m---------------------------------------------------------------------------\u001b[0m",
            "\u001b[0;31mKeyboardInterrupt\u001b[0m                         Traceback (most recent call last)",
            "\u001b[0;32m<ipython-input-1-bd1ed35b14ac>\u001b[0m in \u001b[0;36m<cell line: 2>\u001b[0;34m()\u001b[0m\n\u001b[1;32m      2\u001b[0m \u001b[0;32mwhile\u001b[0m \u001b[0;32mTrue\u001b[0m\u001b[0;34m:\u001b[0m\u001b[0;34m\u001b[0m\u001b[0;34m\u001b[0m\u001b[0m\n\u001b[1;32m      3\u001b[0m     \u001b[0;32mtry\u001b[0m\u001b[0;34m:\u001b[0m\u001b[0;34m\u001b[0m\u001b[0;34m\u001b[0m\u001b[0m\n\u001b[0;32m----> 4\u001b[0;31m         \u001b[0mx\u001b[0m \u001b[0;34m=\u001b[0m \u001b[0mint\u001b[0m\u001b[0;34m(\u001b[0m\u001b[0minput\u001b[0m\u001b[0;34m(\u001b[0m\u001b[0;34m'Please enter a number: '\u001b[0m\u001b[0;34m)\u001b[0m\u001b[0;34m)\u001b[0m\u001b[0;34m\u001b[0m\u001b[0;34m\u001b[0m\u001b[0m\n\u001b[0m\u001b[1;32m      5\u001b[0m         \u001b[0;32mbreak\u001b[0m\u001b[0;34m\u001b[0m\u001b[0;34m\u001b[0m\u001b[0m\n\u001b[1;32m      6\u001b[0m \u001b[0;34m\u001b[0m\u001b[0m\n",
            "\u001b[0;32m/usr/local/lib/python3.10/dist-packages/ipykernel/kernelbase.py\u001b[0m in \u001b[0;36mraw_input\u001b[0;34m(self, prompt)\u001b[0m\n\u001b[1;32m    849\u001b[0m                 \u001b[0;34m\"raw_input was called, but this frontend does not support input requests.\"\u001b[0m\u001b[0;34m\u001b[0m\u001b[0;34m\u001b[0m\u001b[0m\n\u001b[1;32m    850\u001b[0m             )\n\u001b[0;32m--> 851\u001b[0;31m         return self._input_request(str(prompt),\n\u001b[0m\u001b[1;32m    852\u001b[0m             \u001b[0mself\u001b[0m\u001b[0;34m.\u001b[0m\u001b[0m_parent_ident\u001b[0m\u001b[0;34m,\u001b[0m\u001b[0;34m\u001b[0m\u001b[0;34m\u001b[0m\u001b[0m\n\u001b[1;32m    853\u001b[0m             \u001b[0mself\u001b[0m\u001b[0;34m.\u001b[0m\u001b[0m_parent_header\u001b[0m\u001b[0;34m,\u001b[0m\u001b[0;34m\u001b[0m\u001b[0;34m\u001b[0m\u001b[0m\n",
            "\u001b[0;32m/usr/local/lib/python3.10/dist-packages/ipykernel/kernelbase.py\u001b[0m in \u001b[0;36m_input_request\u001b[0;34m(self, prompt, ident, parent, password)\u001b[0m\n\u001b[1;32m    893\u001b[0m             \u001b[0;32mexcept\u001b[0m \u001b[0mKeyboardInterrupt\u001b[0m\u001b[0;34m:\u001b[0m\u001b[0;34m\u001b[0m\u001b[0;34m\u001b[0m\u001b[0m\n\u001b[1;32m    894\u001b[0m                 \u001b[0;31m# re-raise KeyboardInterrupt, to truncate traceback\u001b[0m\u001b[0;34m\u001b[0m\u001b[0;34m\u001b[0m\u001b[0m\n\u001b[0;32m--> 895\u001b[0;31m                 \u001b[0;32mraise\u001b[0m \u001b[0mKeyboardInterrupt\u001b[0m\u001b[0;34m(\u001b[0m\u001b[0;34m\"Interrupted by user\"\u001b[0m\u001b[0;34m)\u001b[0m \u001b[0;32mfrom\u001b[0m \u001b[0;32mNone\u001b[0m\u001b[0;34m\u001b[0m\u001b[0;34m\u001b[0m\u001b[0m\n\u001b[0m\u001b[1;32m    896\u001b[0m             \u001b[0;32mexcept\u001b[0m \u001b[0mException\u001b[0m \u001b[0;32mas\u001b[0m \u001b[0me\u001b[0m\u001b[0;34m:\u001b[0m\u001b[0;34m\u001b[0m\u001b[0;34m\u001b[0m\u001b[0m\n\u001b[1;32m    897\u001b[0m                 \u001b[0mself\u001b[0m\u001b[0;34m.\u001b[0m\u001b[0mlog\u001b[0m\u001b[0;34m.\u001b[0m\u001b[0mwarning\u001b[0m\u001b[0;34m(\u001b[0m\u001b[0;34m\"Invalid Message:\"\u001b[0m\u001b[0;34m,\u001b[0m \u001b[0mexc_info\u001b[0m\u001b[0;34m=\u001b[0m\u001b[0;32mTrue\u001b[0m\u001b[0;34m)\u001b[0m\u001b[0;34m\u001b[0m\u001b[0;34m\u001b[0m\u001b[0m\n",
            "\u001b[0;31mKeyboardInterrupt\u001b[0m: Interrupted by user"
          ]
        }
      ]
    },
    {
      "cell_type": "markdown",
      "source": [
        "### [실습] 파이썬 정보 확인하기\n",
        "\n",
        "\n",
        "1.   설치된 파이썬 버전 출력하기\n",
        "2.   파이썬 실행파일 위치 출력하기\n",
        "\n"
      ],
      "metadata": {
        "id": "BVZeLUFeILol"
      }
    },
    {
      "cell_type": "code",
      "source": [
        "#설치된 파이썬 버전 출력\n",
        "import sys\n",
        "print(f'파이썬 버전: {sys.version} ')\n",
        "\n",
        "#파이썬 실행파일 위치\n",
        "print(f'파이썬 실행파일 위치: {sys.executable} ')"
      ],
      "metadata": {
        "id": "wYTlynjPIaj4",
        "colab": {
          "base_uri": "https://localhost:8080/"
        },
        "outputId": "07e9e6b3-06a2-4a18-c2dd-f2d003a5cb24"
      },
      "execution_count": 4,
      "outputs": [
        {
          "output_type": "stream",
          "name": "stdout",
          "text": [
            "파이썬 버전: 3.10.12 (main, Jun 11 2023, 05:26:28) [GCC 11.4.0] \n",
            "파이썬 실행파일 위치: /usr/bin/python3 \n"
          ]
        }
      ]
    },
    {
      "cell_type": "markdown",
      "metadata": {
        "id": "wl2PYxtB8GGR"
      },
      "source": [
        "----------"
      ]
    },
    {
      "cell_type": "markdown",
      "source": [
        "## 2.파이썬 기초 다지기"
      ],
      "metadata": {
        "id": "T20_kqnwDKe2"
      }
    },
    {
      "cell_type": "markdown",
      "metadata": {
        "id": "GPQdotYg8GGR"
      },
      "source": [
        "### 2-1.파이썬 자료형과 연산자"
      ]
    },
    {
      "cell_type": "markdown",
      "source": [
        "### **[파이썬 자료형]**"
      ],
      "metadata": {
        "id": "tvdq0vw7OBaH"
      }
    },
    {
      "cell_type": "markdown",
      "source": [
        "### [실습문제]\n",
        "\n",
        "\n",
        "-  문제1: 10 + 3 x 4 결과 출력\n",
        "- 문제2: 아이폰 15대를 가지고 있다. 아이폰의 가격이 130만원 일 때 총 금액은?\n",
        "- 문제3: 주어진 자연수가 홀수인지 짝수인지 판별하는 방법은?\n",
        "- 문제4: 2x2x2x5x5x5x5x3x3x3x3을 제곱형태로 나타낸 후 그 결과 출력하기\n",
        "\n"
      ],
      "metadata": {
        "id": "0l4jT7BAI2_t"
      }
    },
    {
      "cell_type": "code",
      "source": [
        "result = 10 + 3 * 4\n",
        "print(result)\n",
        "\n",
        "iphone_price = 1300000  # 각 아이폰의 가격 (130만원)\n",
        "iphone_count = 15     # 아이폰의 개수\n",
        "\n",
        "total_price = iphone_price * iphone_count  # 총 금액 계산\n",
        "\n",
        "print(\"문제2 : 총 금액은\", total_price, \"원 입니다.\")\n"
      ],
      "metadata": {
        "id": "F0LQlgLkI3R2",
        "colab": {
          "base_uri": "https://localhost:8080/"
        },
        "outputId": "f28efc79-c6b3-42ca-efd3-d85d8a4e5dee"
      },
      "execution_count": null,
      "outputs": [
        {
          "output_type": "stream",
          "name": "stdout",
          "text": [
            "22\n",
            "문제2 : 총 금액은 19500000 원 입니다.\n"
          ]
        }
      ]
    },
    {
      "cell_type": "markdown",
      "metadata": {
        "id": "rQVzLcNR8GGR"
      },
      "source": [
        "#### 파이썬 자료형 확인"
      ]
    },
    {
      "cell_type": "code",
      "execution_count": 5,
      "metadata": {
        "colab": {
          "base_uri": "https://localhost:8080/"
        },
        "id": "re9ioSIM8GGR",
        "outputId": "bceaa039-3943-4974-d057-c4c5405ee350"
      },
      "outputs": [
        {
          "output_type": "stream",
          "name": "stdout",
          "text": [
            "123의 자료형: <class 'int'>\n",
            "123의 자료형: <class 'str'>\n",
            "[123]의 자료형: <class 'list'>\n",
            "(123,)의 자료형: <class 'tuple'>\n",
            "{'key': 123}의 자료형: <class 'dict'>\n",
            "{123}의 자료형: <class 'set'>\n",
            "True의 자료형: <class 'bool'>\n"
          ]
        }
      ],
      "source": [
        "d1 = 123\n",
        "d2 = '123'\n",
        "d3 = [123]\n",
        "d4 = (123,)\n",
        "d5 = {'key':123}\n",
        "d6 = {123}\n",
        "d7 = True\n",
        "\n",
        "print(f'{d1}의 자료형: {type(d1)}')\n",
        "print(f'{d2}의 자료형: {type(d2)}')\n",
        "print(f'{d3}의 자료형: {type(d3)}')\n",
        "print(f'{d4}의 자료형: {type(d4)}')\n",
        "print(f'{d5}의 자료형: {type(d5)}')\n",
        "print(f'{d6}의 자료형: {type(d6)}')\n",
        "print(f'{d7}의 자료형: {type(d7)}')"
      ]
    },
    {
      "cell_type": "code",
      "execution_count": null,
      "metadata": {
        "scrolled": true,
        "id": "gbzIvlUi8GGR",
        "colab": {
          "base_uri": "https://localhost:8080/"
        },
        "outputId": "fbd1a07a-3621-4dcd-ffa1-49238f830917"
      },
      "outputs": [
        {
          "output_type": "stream",
          "name": "stdout",
          "text": [
            "데이터 '123' 의 자료형: <class 'int'>\n",
            "데이터 '123' 의 자료형: <class 'str'>\n",
            "데이터 '[123]' 의 자료형: <class 'list'>\n",
            "데이터 '(123,)' 의 자료형: <class 'tuple'>\n",
            "데이터 '{'key': 123}' 의 자료형: <class 'dict'>\n",
            "데이터 '{123}' 의 자료형: <class 'set'>\n",
            "데이터 'True' 의 자료형: <class 'bool'>\n"
          ]
        }
      ],
      "source": [
        "datas = [123,'123',[123],(123,),{'key':123},{123},True]\n",
        "\n",
        "for d in datas:\n",
        "         print(f\"데이터 '{d}' 의 자료형: {type(d)}\")"
      ]
    },
    {
      "cell_type": "markdown",
      "metadata": {
        "id": "EDFiaZyv8GGR"
      },
      "source": [
        "#### 실습문제\n",
        "두 수를 입력 받아 덧셈, 뺄셈, 곱셈, 몫, 나머지를 출력하는 프로그램을 작성하세요\n"
      ]
    },
    {
      "cell_type": "code",
      "execution_count": 8,
      "metadata": {
        "scrolled": true,
        "id": "a9sG7Q738GGS",
        "colab": {
          "base_uri": "https://localhost:8080/"
        },
        "outputId": "ba54aa0e-1e4b-47eb-ba88-6afdbccfaa14"
      },
      "outputs": [
        {
          "output_type": "stream",
          "name": "stdout",
          "text": [
            "첫번째 숫자: 5\n",
            "두번째 숫자: 3\n",
            "--------------------------------------------------\n",
            "덧셈:5 +3 = 8\n",
            "곱셈:5 *3 = 15\n",
            "뺄셈:5 -3 = 2\n",
            "나눗셈:5/3 = 1.6666666666666667\n",
            "나머지:5 //3 = 1\n"
          ]
        }
      ],
      "source": [
        "num1=int(input(\"첫번째 숫자: \"))\n",
        "num2=int(input(\"두번째 숫자: \"))\n",
        "print('-'*50)\n",
        "print(f'덧셈:{num1} +{num2} = {num1+num2}')\n",
        "print(f'곱셈:{num1} *{num2} = {num1*num2}')\n",
        "print(f'뺄셈:{num1} -{num2} = {num1-num2}')\n",
        "print(f'나눗셈:{num1}/{num2} = {num1/num2}')\n",
        "print(f'나머지:{num1} //{num2} = {num1//num2}')"
      ]
    },
    {
      "cell_type": "markdown",
      "metadata": {
        "id": "LqAbyRHs8GGS"
      },
      "source": [
        "#### 실습문제 :  시간 계산 프로그램\n",
        "속력과 거리를 입력 받아 시간을 계산하여 출력하는 프로그램을 만드세요!\n",
        "- 시간 = 거리 / 속력\n",
        "\n"
      ]
    },
    {
      "cell_type": "code",
      "execution_count": null,
      "metadata": {
        "id": "YwepfYt98GGS"
      },
      "outputs": [],
      "source": [
        "velocity = input('속력를 입력해 주세요(km/h) : ')\n",
        "distance = input('거리를 입력해 주세요(km) : ')\n",
        "\n",
        "\n"
      ]
    },
    {
      "cell_type": "markdown",
      "source": [
        "- eval()함수 사용하여 문자열을 계산할 수 있다"
      ],
      "metadata": {
        "id": "sHIxGA0xLj0C"
      }
    },
    {
      "cell_type": "code",
      "execution_count": null,
      "metadata": {
        "id": "gvVxuLjX8GGS",
        "colab": {
          "base_uri": "https://localhost:8080/"
        },
        "outputId": "70d630a2-05ea-497f-f891-2a1488210640"
      },
      "outputs": [
        {
          "output_type": "stream",
          "name": "stdout",
          "text": [
            "3.4\n"
          ]
        }
      ],
      "source": [
        "# eval()함수 사용\n",
        "time = eval(f'{distance} / {velocity}')\n",
        "print(time)"
      ]
    },
    {
      "cell_type": "markdown",
      "metadata": {
        "id": "tECEWKan8GGS"
      },
      "source": [
        "#### 실습문제 : 정수 합 구하기\n",
        "아래와 같이 정수 n을 입력 받아, a + aa + aaa의 결과 값을 구하는 프로그램을 작성하세요"
      ]
    },
    {
      "cell_type": "code",
      "execution_count": 9,
      "metadata": {
        "scrolled": true,
        "id": "a04GPnn98GGS",
        "colab": {
          "base_uri": "https://localhost:8080/"
        },
        "outputId": "f9e9cc93-2532-4dbe-adfd-a2cb326a71cf"
      },
      "outputs": [
        {
          "output_type": "stream",
          "name": "stdout",
          "text": [
            "한자리 숫자를 입력하세요: 5\n",
            "5 + 55 + 555= 615\n",
            "숫자 하나를 입력하세요: 6\n",
            "6+55+555 = 616\n"
          ]
        }
      ],
      "source": [
        "a= int(input(\"한자리 숫자를 입력하세요: \"))\n",
        "\n",
        "a = a\n",
        "aa = a * 10 + a\n",
        "aaa = a * 100 + a * 10 + a\n",
        "\n",
        "print(f'{a} + {aa} + {aaa}= {a+aa+aaa}')\n",
        "\n",
        "\n",
        "\n",
        "a = input('숫자 하나를 입력하세요: ')\n",
        "print(f\"{a}+{aa}+{aaa} = {eval(f'{a}+{aa}+{aaa}')}\")\n",
        "# value = f'{a}+{aa}+{aaa}'\n",
        "# print(f\"{value} = {eval(value)}\")"
      ]
    },
    {
      "cell_type": "markdown",
      "source": [
        "#### 내장 수학 함수\n",
        "- 파이썬 내장 함수 https://docs.python.org/ko/3.10/library/functions.html"
      ],
      "metadata": {
        "id": "fCTCbmTxM-me"
      }
    },
    {
      "cell_type": "code",
      "source": [
        "import math\n",
        "\n",
        "print(f'원주율: {math.pi}')\n",
        "print(f'절대값: {abs(-10)}')\n",
        "print(f'반올림: {round(1.791, 2)}')\n",
        "print(f'올림  : {math.ceil(1.7)}')\n",
        "print(f'내림  : {math.floor(1.7)}')\n",
        "print(f'제곱  : {math.pow(2, 10)}')\n",
        "print(f'제곱근: {math.sqrt(4)}')\n",
        "print(f'로그  : {math.log(10) }')"
      ],
      "metadata": {
        "colab": {
          "base_uri": "https://localhost:8080/"
        },
        "id": "6Edr-y4FNAzY",
        "outputId": "9cb1f527-5607-4aab-a85f-de9b00d41a2a"
      },
      "execution_count": null,
      "outputs": [
        {
          "output_type": "stream",
          "name": "stdout",
          "text": [
            "원주율: 3.141592653589793\n",
            "절대값: 10\n",
            "반올림: 1.79\n",
            "올림  : 2\n",
            "내림  : 1\n",
            "제곱  : 1024.0\n",
            "제곱근: 2.0\n",
            "로그  : 2.302585092994046\n"
          ]
        }
      ]
    },
    {
      "cell_type": "markdown",
      "source": [
        "### [실습문제] : 수학 함수 사용하기\n",
        "- 문제1: 반지름이 4인 원의 넓이 출력\n",
        "- 문제2: 3.14 곱하가 2 나누기 7의 값을 반올림하여 계산 결과 출력\n",
        "- 문제3: 원주율을 3.14로 만들어서 반지름이 4인 원의 둘레의 길이 출력"
      ],
      "metadata": {
        "id": "aW7za8RUNErb"
      }
    },
    {
      "cell_type": "code",
      "source": [
        "\n",
        "\n"
      ],
      "metadata": {
        "id": "wdpC3giLNOhp"
      },
      "execution_count": null,
      "outputs": []
    },
    {
      "cell_type": "markdown",
      "metadata": {
        "id": "em_gXIiP8GGT"
      },
      "source": [
        "-----"
      ]
    },
    {
      "cell_type": "markdown",
      "source": [
        "### **[문자와 문자열]**"
      ],
      "metadata": {
        "id": "_AgpChJ_Ntbt"
      }
    },
    {
      "cell_type": "markdown",
      "source": [
        "#### 문자와 문자열 변환"
      ],
      "metadata": {
        "id": "hCBT7HywOk5c"
      }
    },
    {
      "cell_type": "code",
      "source": [
        "# 문자 --> 숫자(정수) 로 변환 : ord() 함수 사용\n",
        "print( ord('A') )\n",
        "print( ord('!') )\n",
        "print( ord('가') )"
      ],
      "metadata": {
        "id": "D1WbhodqOrVN",
        "colab": {
          "base_uri": "https://localhost:8080/"
        },
        "outputId": "882e9a85-1ba2-49a5-ffa6-db644597b291"
      },
      "execution_count": null,
      "outputs": [
        {
          "output_type": "stream",
          "name": "stdout",
          "text": [
            "65\n",
            "33\n",
            "44032\n"
          ]
        }
      ]
    },
    {
      "cell_type": "code",
      "source": [
        "# 숫자(정수) --> 문자 로 변환 : chr() 함수 사용\n",
        "print( chr(65) )\n",
        "print( chr(66) )\n",
        "print( chr(97) )\n",
        "print( chr(98) )\n",
        "print( chr(44032) )\n",
        "print( chr(44033) )"
      ],
      "metadata": {
        "id": "xS6nc_-XOw9X",
        "colab": {
          "base_uri": "https://localhost:8080/"
        },
        "outputId": "c60e0b36-e891-431e-b363-f3bd369b5fcb"
      },
      "execution_count": null,
      "outputs": [
        {
          "output_type": "stream",
          "name": "stdout",
          "text": [
            "A\n",
            "B\n",
            "a\n",
            "b\n",
            "가\n",
            "각\n"
          ]
        }
      ]
    },
    {
      "cell_type": "code",
      "source": [
        "# 문자 --> 숫자 --> 이진수 로 변환\n",
        "for c in '파이썬':\n",
        "    숫자변환 = ord(c)              # unicode\n",
        "    이진수변환 = bin(숫자변환)     # 16진수 binarycode\n",
        "    print( 이진수변환, end = ' ')  # 한 줄로 표현하기"
      ],
      "metadata": {
        "id": "_gesbU8AOzJ_"
      },
      "execution_count": null,
      "outputs": []
    },
    {
      "cell_type": "code",
      "source": [
        "for c in '파이썬':\n",
        "    # 이진수에서 앞'0b'를 없애기 위해 format() 함수 사용할 수 있다.\n",
        "    print( format(ord(c), 'b'), end = ' ')  # 한 줄로 표현하기"
      ],
      "metadata": {
        "id": "ZQyZdBeSOzrE",
        "colab": {
          "base_uri": "https://localhost:8080/"
        },
        "outputId": "39a1f5eb-68f4-4baa-c7df-9ca22cd42ec8"
      },
      "execution_count": null,
      "outputs": [
        {
          "output_type": "stream",
          "name": "stdout",
          "text": [
            "1101001100001100 1100011101110100 1100001101101100 "
          ]
        }
      ]
    },
    {
      "cell_type": "markdown",
      "source": [
        "#### 문자열 따옴표로 지정"
      ],
      "metadata": {
        "id": "xpJdl4QwO55X"
      }
    },
    {
      "cell_type": "code",
      "source": [
        "# 큰 따옴표 or 작은 따옴표로 지정한다\n",
        "print('Hello')\n",
        "print(\"Hello\")\n",
        "print(\"Hello 'world\")\n",
        "print('Hello \"world')\n",
        "print(' \"Yes, I can!\" ')"
      ],
      "metadata": {
        "id": "zl_C1UOnPC8k",
        "colab": {
          "base_uri": "https://localhost:8080/"
        },
        "outputId": "9dbd0b81-e522-47a7-ca37-c70e084fec2a"
      },
      "execution_count": null,
      "outputs": [
        {
          "output_type": "stream",
          "name": "stdout",
          "text": [
            "Hello\n",
            "Hello\n",
            "Hello 'world\n",
            "Hello \"world\n",
            " \"Yes, I can!\" \n"
          ]
        }
      ]
    },
    {
      "cell_type": "code",
      "source": [
        "#따옴표 세 개 사용 : 여러 줄로 표현할 때\n",
        "a = '''박씨가 소리질렀다.\n",
        "도둑이야!'''\n",
        "print(a)"
      ],
      "metadata": {
        "id": "P3Q6389qPDW6",
        "colab": {
          "base_uri": "https://localhost:8080/"
        },
        "outputId": "c298f134-1890-4f5f-fe49-f363bb418343"
      },
      "execution_count": 10,
      "outputs": [
        {
          "output_type": "stream",
          "name": "stdout",
          "text": [
            "박씨가 소리질렀다.\n",
            "도둑이야!\n"
          ]
        }
      ]
    },
    {
      "cell_type": "code",
      "source": [
        "menu = '''OOO카페 메뉴판\n",
        "- 아메리카노:  3000원\n",
        "- 카페라테:     4000원\n",
        "- 카페모카:     5000원'''\n",
        "print(menu)\n",
        "print('_'*30)\n",
        "coffee = input('주문하실 음료를 입력하세요(ex:아메리카노) => ')\n",
        "cup = input(f'{coffee} 몇 잔을 주문하시겠습니까?: ')\n",
        "\n",
        "print(f'주문하신 음료는 {coffee} {cup} 잔 입니다.')"
      ],
      "metadata": {
        "id": "ZNImZioTPMTF",
        "colab": {
          "base_uri": "https://localhost:8080/"
        },
        "outputId": "5285e43e-a9b7-4031-e770-d227ba158e61"
      },
      "execution_count": null,
      "outputs": [
        {
          "output_type": "stream",
          "name": "stdout",
          "text": [
            "OOO카페 메뉴판\n",
            "- 아메리카노:  3000원\n",
            "- 카페라테:     4000원\n",
            "- 카페모카:     5000원\n",
            "______________________________\n",
            "주문하실 음료를 입력하세요(ex:아메리카노) => 아메리카노\n",
            "아메리카노 몇 잔을 주문하시겠습니까?: 3\n",
            "주문하신 음료는 아메리카노 3 잔 입니다.\n"
          ]
        }
      ]
    },
    {
      "cell_type": "markdown",
      "source": [
        "#### 문자열 연산\n",
        "- (+): 문자열 연결하기\n",
        "- (*) : 반복의 의미"
      ],
      "metadata": {
        "id": "0hueAcbNczkD"
      }
    },
    {
      "cell_type": "code",
      "source": [
        "# 문자열 연결하기\n",
        "print('Hello'+'world') #붙여서\n",
        "print('Hello','world', '!') #공백문자\n",
        "\n",
        "a = \"Python\"\n",
        "b = \" is very fun!\"\n",
        "print(a+b)"
      ],
      "metadata": {
        "id": "Z5KLgMT3c5kA",
        "colab": {
          "base_uri": "https://localhost:8080/"
        },
        "outputId": "49518204-15f1-4377-8537-b1b3e4f3d498"
      },
      "execution_count": null,
      "outputs": [
        {
          "output_type": "stream",
          "name": "stdout",
          "text": [
            "Helloworld\n",
            "Hello world !\n",
            "Python is very fun!\n"
          ]
        }
      ]
    },
    {
      "cell_type": "code",
      "source": [
        "# 반복의 의미\n",
        "print('Hello'*3)\n",
        "print('-' * 30)"
      ],
      "metadata": {
        "id": "3CNBVzLJc53l",
        "colab": {
          "base_uri": "https://localhost:8080/"
        },
        "outputId": "d799f2ba-dc00-40b4-ed4c-81496726750b"
      },
      "execution_count": null,
      "outputs": [
        {
          "output_type": "stream",
          "name": "stdout",
          "text": [
            "HelloHelloHello\n",
            "------------------------------\n"
          ]
        }
      ]
    },
    {
      "cell_type": "code",
      "source": [],
      "metadata": {
        "id": "V-rHPvSArEz7"
      },
      "execution_count": null,
      "outputs": []
    },
    {
      "cell_type": "markdown",
      "source": [
        "### 실습문제 : 문자열 출력하기\n",
        "- 문제1: 화면에   Mary’s cosmetics   출력\n",
        "- 문제2: 화면에  박씨가 소리질렀다. “도둑이야!”.  출력\n",
        "- 문제3: 다음 코드 실행시켜서 \\t와 \\n의 역할 확인하기 <br>\n",
        "print(\"안녕하세요.\\n오늘\\t날씨가\\t\\t좋습니다.\")"
      ],
      "metadata": {
        "id": "zGFtY_D1ckjy"
      }
    },
    {
      "cell_type": "code",
      "source": [
        "print(\"Mary's cosmetics\")\n",
        "print('박씨가 소리질렀다. \"도둑이야!\".')\n",
        "print(\"안녕하세요.\\n오늘\\t날씨가\\t\\t좋습니다.\")"
      ],
      "metadata": {
        "id": "zZAO6RHWpCQ6",
        "colab": {
          "base_uri": "https://localhost:8080/"
        },
        "outputId": "2b81e342-b584-44c8-d212-88a426508510"
      },
      "execution_count": null,
      "outputs": [
        {
          "output_type": "stream",
          "name": "stdout",
          "text": [
            "Mary's cosmetics\n",
            "박씨가 소리질렀다. \"도둑이야!\".\n",
            "안녕하세요.\n",
            "오늘\t날씨가\t\t좋습니다.\n"
          ]
        }
      ]
    },
    {
      "cell_type": "markdown",
      "source": [
        "### 실습문제 :  구글TTS(gTTS) 사용하여 음성 출력하기"
      ],
      "metadata": {
        "id": "Hb6l5EjLQB2m"
      }
    },
    {
      "cell_type": "code",
      "source": [
        "# 구글 tts 프로그램\n",
        "!pip install gTTS"
      ],
      "metadata": {
        "id": "-eY--f6MPwTf",
        "colab": {
          "base_uri": "https://localhost:8080/"
        },
        "outputId": "b7759b27-f2b1-4149-a426-d7b08db878c4"
      },
      "execution_count": null,
      "outputs": [
        {
          "output_type": "stream",
          "name": "stdout",
          "text": [
            "Collecting gTTS\n",
            "  Downloading gTTS-2.4.0-py3-none-any.whl (29 kB)\n",
            "Requirement already satisfied: requests<3,>=2.27 in /usr/local/lib/python3.10/dist-packages (from gTTS) (2.31.0)\n",
            "Requirement already satisfied: click<8.2,>=7.1 in /usr/local/lib/python3.10/dist-packages (from gTTS) (8.1.7)\n",
            "Requirement already satisfied: charset-normalizer<4,>=2 in /usr/local/lib/python3.10/dist-packages (from requests<3,>=2.27->gTTS) (3.3.0)\n",
            "Requirement already satisfied: idna<4,>=2.5 in /usr/local/lib/python3.10/dist-packages (from requests<3,>=2.27->gTTS) (3.4)\n",
            "Requirement already satisfied: urllib3<3,>=1.21.1 in /usr/local/lib/python3.10/dist-packages (from requests<3,>=2.27->gTTS) (2.0.6)\n",
            "Requirement already satisfied: certifi>=2017.4.17 in /usr/local/lib/python3.10/dist-packages (from requests<3,>=2.27->gTTS) (2023.7.22)\n",
            "Installing collected packages: gTTS\n",
            "Successfully installed gTTS-2.4.0\n"
          ]
        }
      ]
    },
    {
      "cell_type": "code",
      "source": [
        "# 영어 출력\n",
        "from gtts import gTTS\n",
        "from IPython.display import Audio\n",
        "\n",
        "eng_wav = gTTS('Hellow, World!')\n",
        "eng_wav.save('eng.wav')\n",
        "\n",
        "display(Audio('eng.wav', autoplay=True))"
      ],
      "metadata": {
        "id": "O_xqpl0pPx6k",
        "colab": {
          "base_uri": "https://localhost:8080/",
          "height": 74
        },
        "outputId": "e4479cd4-11d7-46e1-fb97-c0c0ad3d58a9"
      },
      "execution_count": null,
      "outputs": [
        {
          "output_type": "display_data",
          "data": {
            "text/plain": [
              "<IPython.lib.display.Audio object>"
            ],
            "text/html": [
              "\n",
              "                <audio  controls=\"controls\" autoplay=\"autoplay\">\n",
              "                    <source src=\"data:audio/x-wav;base64,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\" type=\"audio/x-wav\" />\n",
              "                    Your browser does not support the audio element.\n",
              "                </audio>\n",
              "              "
            ]
          },
          "metadata": {}
        }
      ]
    },
    {
      "cell_type": "code",
      "source": [
        "# 한글 출력\n",
        "from gtts import gTTS\n",
        "from IPython.display import Audio\n",
        "\n",
        "kor_wav = gTTS('안녕하세요! ', lang = 'ko')\n",
        "kor_wav.save('kor.wav')\n",
        "\n",
        "display(Audio('kor.wav', autoplay=True))"
      ],
      "metadata": {
        "id": "inyZATWlP3Cp",
        "colab": {
          "base_uri": "https://localhost:8080/",
          "height": 74
        },
        "outputId": "8cc475cd-c082-41ba-9c12-f5ca9cf52a9b"
      },
      "execution_count": null,
      "outputs": [
        {
          "output_type": "display_data",
          "data": {
            "text/plain": [
              "<IPython.lib.display.Audio object>"
            ],
            "text/html": [
              "\n",
              "                <audio  controls=\"controls\" autoplay=\"autoplay\">\n",
              "                    <source src=\"data:audio/x-wav;base64,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\" type=\"audio/x-wav\" />\n",
              "                    Your browser does not support the audio element.\n",
              "                </audio>\n",
              "              "
            ]
          },
          "metadata": {}
        }
      ]
    },
    {
      "cell_type": "markdown",
      "source": [
        "### 실습문제 :  파일 읽어 음성으로 출력하기"
      ],
      "metadata": {
        "id": "A5onlk2_pJnX"
      }
    },
    {
      "cell_type": "code",
      "source": [
        "# 파일 읽어서 음성으로 출력하기\n",
        "from gtts import gTTS\n",
        "from IPython.display import Audio\n",
        "\n",
        "with open(\"./오감도.txt\", 'r') as f:\n",
        "    s = f.read()\n",
        "    print(s)\n",
        "\n",
        "kor_wav = gTTS(s, lang = 'ko')\n",
        "kor_wav.save('kor.wav')\n",
        "\n",
        "display(Audio('kor.wav', autoplay=True))"
      ],
      "metadata": {
        "id": "LL9LBIfPUS1-",
        "colab": {
          "base_uri": "https://localhost:8080/",
          "height": 400
        },
        "outputId": "82730252-cc68-463f-d30f-b0571e4806b2"
      },
      "execution_count": 11,
      "outputs": [
        {
          "output_type": "error",
          "ename": "ModuleNotFoundError",
          "evalue": "ignored",
          "traceback": [
            "\u001b[0;31m---------------------------------------------------------------------------\u001b[0m",
            "\u001b[0;31mModuleNotFoundError\u001b[0m                       Traceback (most recent call last)",
            "\u001b[0;32m<ipython-input-11-f679853f92e1>\u001b[0m in \u001b[0;36m<cell line: 2>\u001b[0;34m()\u001b[0m\n\u001b[1;32m      1\u001b[0m \u001b[0;31m# 파일 읽어서 음성으로 출력하기\u001b[0m\u001b[0;34m\u001b[0m\u001b[0;34m\u001b[0m\u001b[0m\n\u001b[0;32m----> 2\u001b[0;31m \u001b[0;32mfrom\u001b[0m \u001b[0mgtts\u001b[0m \u001b[0;32mimport\u001b[0m \u001b[0mgTTS\u001b[0m\u001b[0;34m\u001b[0m\u001b[0;34m\u001b[0m\u001b[0m\n\u001b[0m\u001b[1;32m      3\u001b[0m \u001b[0;32mfrom\u001b[0m \u001b[0mIPython\u001b[0m\u001b[0;34m.\u001b[0m\u001b[0mdisplay\u001b[0m \u001b[0;32mimport\u001b[0m \u001b[0mAudio\u001b[0m\u001b[0;34m\u001b[0m\u001b[0;34m\u001b[0m\u001b[0m\n\u001b[1;32m      4\u001b[0m \u001b[0;34m\u001b[0m\u001b[0m\n\u001b[1;32m      5\u001b[0m \u001b[0;32mwith\u001b[0m \u001b[0mopen\u001b[0m\u001b[0;34m(\u001b[0m\u001b[0;34m\"./오감도.txt\"\u001b[0m\u001b[0;34m,\u001b[0m \u001b[0;34m'r'\u001b[0m\u001b[0;34m)\u001b[0m \u001b[0;32mas\u001b[0m \u001b[0mf\u001b[0m\u001b[0;34m:\u001b[0m\u001b[0;34m\u001b[0m\u001b[0;34m\u001b[0m\u001b[0m\n",
            "\u001b[0;31mModuleNotFoundError\u001b[0m: No module named 'gtts'",
            "",
            "\u001b[0;31m---------------------------------------------------------------------------\u001b[0;32m\nNOTE: If your import is failing due to a missing package, you can\nmanually install dependencies using either !pip or !apt.\n\nTo view examples of installing some common dependencies, click the\n\"Open Examples\" button below.\n\u001b[0;31m---------------------------------------------------------------------------\u001b[0m\n"
          ],
          "errorDetails": {
            "actions": [
              {
                "action": "open_url",
                "actionText": "Open Examples",
                "url": "/notebooks/snippets/importing_libraries.ipynb"
              }
            ]
          }
        }
      ]
    },
    {
      "cell_type": "markdown",
      "metadata": {
        "id": "xPW5SM108GGT"
      },
      "source": [
        "### **[문자열 인덱싱과 슬레이싱]**"
      ]
    },
    {
      "cell_type": "code",
      "source": [
        "a = '우리는 민족중흥의 역사적 사명을 띠고 이 땅에 태어났다.'\n",
        "print(a[3:12] )\n",
        "\n",
        "fruits = 'orange'\n",
        "print(fruits[1:3])"
      ],
      "metadata": {
        "id": "SNAFf0-FPTUO"
      },
      "execution_count": null,
      "outputs": []
    },
    {
      "cell_type": "markdown",
      "metadata": {
        "id": "GdjCIoKx8GGT"
      },
      "source": [
        "### 실습문제 : 문자열 거꾸로 출력하기\n",
        "\n",
        "문자열을 입력 받아 거꾸로 출력하는 프로그램을 작성하세요"
      ]
    },
    {
      "cell_type": "code",
      "execution_count": null,
      "metadata": {
        "scrolled": true,
        "id": "xo-ZBQiO8GGT",
        "colab": {
          "base_uri": "https://localhost:8080/"
        },
        "outputId": "7a7a49ed-d710-4d90-f223-52da3f631c66"
      },
      "outputs": [
        {
          "output_type": "stream",
          "name": "stdout",
          "text": [
            "문자열을 입력하세요: 사랑해\n",
            "해랑사\n"
          ]
        }
      ],
      "source": [
        "s = input(\"문자열을 입력하세요: \")\n",
        "\n",
        "print(s[::-1])"
      ]
    },
    {
      "cell_type": "markdown",
      "source": [
        "### 실습문제 : 파일명.확장자명 분리하기"
      ],
      "metadata": {
        "id": "PZghIVpIdg-c"
      }
    },
    {
      "cell_type": "code",
      "source": [
        "a = input('확장자가 포함된 파일명을 입력하세요: ')\n",
        "\n",
        "\n",
        "file_path = \"example.txt\"\n",
        "\n",
        "# 파일명과 확장자 분리\n",
        "file_name, file_extension = os.path.splitext(file_path)\n",
        "\n",
        "# 결과 출력\n",
        "print(\"파일명:\", file_name)\n",
        "print(\"확장자:\", file_extension)"
      ],
      "metadata": {
        "id": "o3CvgoVJdhN0",
        "colab": {
          "base_uri": "https://localhost:8080/",
          "height": 276
        },
        "outputId": "3b27435e-555d-4a70-cf1b-c68a884ae583"
      },
      "execution_count": null,
      "outputs": [
        {
          "name": "stdout",
          "output_type": "stream",
          "text": [
            "확장자가 포함된 파일명을 입력하세요: test.py\n"
          ]
        },
        {
          "output_type": "error",
          "ename": "NameError",
          "evalue": "ignored",
          "traceback": [
            "\u001b[0;31m---------------------------------------------------------------------------\u001b[0m",
            "\u001b[0;31mNameError\u001b[0m                                 Traceback (most recent call last)",
            "\u001b[0;32m<ipython-input-81-d60f3bc77223>\u001b[0m in \u001b[0;36m<cell line: 7>\u001b[0;34m()\u001b[0m\n\u001b[1;32m      5\u001b[0m \u001b[0;34m\u001b[0m\u001b[0m\n\u001b[1;32m      6\u001b[0m \u001b[0;31m# 파일명과 확장자 분리\u001b[0m\u001b[0;34m\u001b[0m\u001b[0;34m\u001b[0m\u001b[0m\n\u001b[0;32m----> 7\u001b[0;31m \u001b[0mfile_name\u001b[0m\u001b[0;34m,\u001b[0m \u001b[0mfile_extension\u001b[0m \u001b[0;34m=\u001b[0m \u001b[0mos\u001b[0m\u001b[0;34m.\u001b[0m\u001b[0mpath\u001b[0m\u001b[0;34m.\u001b[0m\u001b[0msplitext\u001b[0m\u001b[0;34m(\u001b[0m\u001b[0mfile_path\u001b[0m\u001b[0;34m)\u001b[0m\u001b[0;34m\u001b[0m\u001b[0;34m\u001b[0m\u001b[0m\n\u001b[0m\u001b[1;32m      8\u001b[0m \u001b[0;34m\u001b[0m\u001b[0m\n\u001b[1;32m      9\u001b[0m \u001b[0;31m# 결과 출력\u001b[0m\u001b[0;34m\u001b[0m\u001b[0;34m\u001b[0m\u001b[0m\n",
            "\u001b[0;31mNameError\u001b[0m: name 'os' is not defined"
          ]
        }
      ]
    },
    {
      "cell_type": "markdown",
      "source": [
        "### **[변수 활용]**"
      ],
      "metadata": {
        "id": "OSn4MTyNeVJU"
      }
    },
    {
      "cell_type": "markdown",
      "metadata": {
        "id": "3jnglF5x8GGU"
      },
      "source": [
        "#### 실습문제 : 지불할 음식 총 가격 계산하\n",
        "- 음식가격:  4,450 원\n",
        "- 세금: 6.75%\n",
        "- 팁: 15%\n",
        "1. meal 변수를 선언하고 값을 4450으로 지정하세요.\n",
        "2. tax 변수를 생성하고 값으로 6.75%를 소수점 형태로 지정하세요.\n",
        "3. tip 변수를 생성하고 값으로 15%를 소수점 형태로 지정하세요.\n",
        "4. meal의 변수값에 세금을 곱해 meal 변수에 지정하세요.\n",
        "5. 음식값에 tip을 더해 total 변수에 지정하세요.\n",
        "6. total 변수 값을 출력하세요."
      ]
    },
    {
      "cell_type": "code",
      "execution_count": 12,
      "metadata": {
        "id": "-us6IUf28GGU",
        "colab": {
          "base_uri": "https://localhost:8080/"
        },
        "outputId": "5d578fcf-374d-44d8-93a6-59240c797091"
      },
      "outputs": [
        {
          "output_type": "stream",
          "name": "stdout",
          "text": [
            "세금으로 내야 할 금액: 300.375\n",
            "세금 포함된 음식가격: 4750.375\n",
            "팁으로 내야 할 금액: 712.55625\n",
            "내가 지불해야 할 금액: 3389659.77109375\n"
          ]
        }
      ],
      "source": [
        "meal = 4450\n",
        "tax = 0.0675 #(6.75/100)\n",
        "tip = 0.15 #(15/100)\n",
        "\n",
        "tax = meal*tax  # 세금으로 내야 할 금액\n",
        "meal = meal + tax   #세금 포함된 음식가격\n",
        "tip = meal * tip  #팁으로 내야 할 금액\n",
        "total = meal + (meal*tip)   #내가 지불해야 할 금액\n",
        "\n",
        "print(f'세금으로 내야 할 금액: {tax}')\n",
        "print(f'세금 포함된 음식가격: {meal}')\n",
        "print(f'팁으로 내야 할 금액: {tip}')\n",
        "print(f'내가 지불해야 할 금액: {total}')"
      ]
    },
    {
      "cell_type": "markdown",
      "source": [
        "### 실습문제 : 섭씨온도를 화씨온도로 변환하기\n",
        "- 섭씨 온도 (Celsius): 1 atm에서의 물의 어는점을 0도, 끓는점을 100도로 정한 온도 체계. (°C)\n",
        "- 화씨 온도 (Fahrenheit): 물이 어는 온도는 32도, 물이 끓는 온도는 212도. 180등분. (°F)\n",
        "- 섭씨온도(℃) = (5 / 9) × (℉ - 32)  # Celsius\n",
        "- 화씨온도(℉) = (9 / 5) × ℃ + 32    # Fahrenheit"
      ],
      "metadata": {
        "id": "Csltm-dLetMB"
      }
    },
    {
      "cell_type": "code",
      "execution_count": null,
      "metadata": {
        "id": "3GZB3ozk8GGU",
        "colab": {
          "base_uri": "https://localhost:8080/",
          "height": 276
        },
        "outputId": "6a83128e-7f03-4a49-e6e9-f095ea04f532"
      },
      "outputs": [
        {
          "name": "stdout",
          "output_type": "stream",
          "text": [
            "섭씨 온도를 입력하세요: 30\n"
          ]
        },
        {
          "output_type": "error",
          "ename": "NameError",
          "evalue": "ignored",
          "traceback": [
            "\u001b[0;31m---------------------------------------------------------------------------\u001b[0m",
            "\u001b[0;31mNameError\u001b[0m                                 Traceback (most recent call last)",
            "\u001b[0;32m<ipython-input-98-ab15649f70c9>\u001b[0m in \u001b[0;36m<cell line: 3>\u001b[0;34m()\u001b[0m\n\u001b[1;32m      1\u001b[0m \u001b[0mCelsius\u001b[0m \u001b[0;34m=\u001b[0m \u001b[0mfloat\u001b[0m\u001b[0;34m(\u001b[0m\u001b[0minput\u001b[0m\u001b[0;34m(\u001b[0m\u001b[0;34m\"섭씨 온도를 입력하세요: \"\u001b[0m\u001b[0;34m)\u001b[0m\u001b[0;34m)\u001b[0m\u001b[0;34m\u001b[0m\u001b[0;34m\u001b[0m\u001b[0m\n\u001b[1;32m      2\u001b[0m \u001b[0;34m\u001b[0m\u001b[0m\n\u001b[0;32m----> 3\u001b[0;31m \u001b[0mFahrenheit\u001b[0m \u001b[0;34m=\u001b[0m \u001b[0;36m9\u001b[0m\u001b[0;34m/\u001b[0m\u001b[0;36m5\u001b[0m \u001b[0;34m*\u001b[0m \u001b[0mCelcius\u001b[0m \u001b[0;34m+\u001b[0m \u001b[0;36m32\u001b[0m\u001b[0;34m\u001b[0m\u001b[0;34m\u001b[0m\u001b[0m\n\u001b[0m\u001b[1;32m      4\u001b[0m \u001b[0;34m\u001b[0m\u001b[0m\n\u001b[1;32m      5\u001b[0m \u001b[0mprint\u001b[0m\u001b[0;34m(\u001b[0m\u001b[0;34mf\"화씨 온도: {Fahrenheit}도\"\u001b[0m\u001b[0;34m)\u001b[0m\u001b[0;34m\u001b[0m\u001b[0;34m\u001b[0m\u001b[0m\n",
            "\u001b[0;31mNameError\u001b[0m: name 'Celcius' is not defined"
          ]
        }
      ],
      "source": [
        "Celsius = float(input(\"섭씨 온도를 입력하세요: \"))\n",
        "\n",
        "Fahrenheit = (9/5) * Celcius + 32\n",
        "\n",
        "print(f\"화씨 온도: {Fahrenheit}도\")\n"
      ]
    },
    {
      "cell_type": "markdown",
      "metadata": {
        "id": "3UTLuSAp8GGY"
      },
      "source": [
        "--------"
      ]
    },
    {
      "cell_type": "markdown",
      "metadata": {
        "id": "fmU7O8WS8GGY"
      },
      "source": [
        "### **[연산자]**"
      ]
    },
    {
      "cell_type": "markdown",
      "metadata": {
        "id": "eRCyhgwS8GGY"
      },
      "source": [
        "#### 실습문제 :  동전 교환 프로그램\n",
        "동전교환 프로그램을 작성하세요"
      ]
    },
    {
      "cell_type": "code",
      "execution_count": 13,
      "metadata": {
        "id": "g8A7ErL78GGY",
        "colab": {
          "base_uri": "https://localhost:8080/"
        },
        "outputId": "def2278c-e108-4ce0-a0d3-4351c7f7981c"
      },
      "outputs": [
        {
          "output_type": "stream",
          "name": "stdout",
          "text": [
            "동전으로 교환할 금액을 입력하세요: 5\n",
            "--------------------------------------------------\n",
            "500원짜리    ==> 0 개\n",
            "100원짜리    ==> 0 개\n",
            "50원짜리    ==> 0 개\n",
            "10원짜리    ==> 0 개\n",
            "잔돈        ==> 5 원\n"
          ]
        }
      ],
      "source": [
        "money = input('동전으로 교환할 금액을 입력하세요: ')\n",
        "print('-'*50)\n",
        "print(f'500원짜리    ==> {int(money)//500} 개')\n",
        "money = int(money) % 500\n",
        "print(f'100원짜리    ==> {money//100} 개')\n",
        "money %= 100   # money = money % 100\n",
        "print(f'50원짜리    ==> {money//50} 개')\n",
        "money %= 50\n",
        "print(f'10원짜리    ==> {money//10} 개')\n",
        "money %= 10\n",
        "print(f'잔돈        ==> {money} 원')"
      ]
    },
    {
      "cell_type": "markdown",
      "metadata": {
        "id": "rCYXIs248GGY"
      },
      "source": [
        "### **[리스트]**"
      ]
    },
    {
      "cell_type": "markdown",
      "source": [
        "- 리스트는 여러 개의 데이터 값을 하나의 변수에 담을 수 있는 데이터 구조\n",
        "- 리스트는 순서(인덱스)가 있고 데이터를 수정, 삭제, 추가 가능하다.\n",
        "- 대괄호로 표현되고 내부 원소는 ,(쉼표)로 구분됨\n",
        "\n",
        "**리스트 생성 & 삭제**"
      ],
      "metadata": {
        "id": "YumGEyjSfPXF"
      }
    },
    {
      "cell_type": "code",
      "source": [
        "a = list()\n",
        "a = []\n",
        "a = [1,2,3]\n",
        "a = ['I', 'Love', 'Python']\n",
        "b = [1,2, '사랑해요', 'Python']\n",
        "b = ['a', '1', 1, [2,3], -4]\n",
        "a = [1,2,['a','b',['사랑해', '파이썬']], 3]\n",
        "print(a)\n",
        "print(b)\n",
        "\n",
        "# 리스트 삭제\n",
        "del(b)\n",
        "\n",
        "print(a)\n",
        "print(b)"
      ],
      "metadata": {
        "id": "7fDp5hT0fhEx",
        "colab": {
          "base_uri": "https://localhost:8080/",
          "height": 276
        },
        "outputId": "0688cddb-403e-4cb8-d348-f1e2303eccce"
      },
      "execution_count": null,
      "outputs": [
        {
          "output_type": "stream",
          "name": "stdout",
          "text": [
            "[1, 2, ['a', 'b', ['사랑해', '파이썬']], 3]\n",
            "['a', '1', 1, [2, 3], -4]\n",
            "[1, 2, ['a', 'b', ['사랑해', '파이썬']], 3]\n"
          ]
        },
        {
          "output_type": "error",
          "ename": "NameError",
          "evalue": "ignored",
          "traceback": [
            "\u001b[0;31m---------------------------------------------------------------------------\u001b[0m",
            "\u001b[0;31mNameError\u001b[0m                                 Traceback (most recent call last)",
            "\u001b[0;32m<ipython-input-113-95865b524456>\u001b[0m in \u001b[0;36m<cell line: 15>\u001b[0;34m()\u001b[0m\n\u001b[1;32m     13\u001b[0m \u001b[0;34m\u001b[0m\u001b[0m\n\u001b[1;32m     14\u001b[0m \u001b[0mprint\u001b[0m\u001b[0;34m(\u001b[0m\u001b[0ma\u001b[0m\u001b[0;34m)\u001b[0m\u001b[0;34m\u001b[0m\u001b[0;34m\u001b[0m\u001b[0m\n\u001b[0;32m---> 15\u001b[0;31m \u001b[0mprint\u001b[0m\u001b[0;34m(\u001b[0m\u001b[0mb\u001b[0m\u001b[0;34m)\u001b[0m\u001b[0;34m\u001b[0m\u001b[0;34m\u001b[0m\u001b[0m\n\u001b[0m",
            "\u001b[0;31mNameError\u001b[0m: name 'b' is not defined"
          ]
        }
      ]
    },
    {
      "cell_type": "markdown",
      "source": [
        "**리스트 요소에 접근**"
      ],
      "metadata": {
        "id": "ZDNnr2DrfhbC"
      }
    },
    {
      "cell_type": "code",
      "source": [
        "print( a[1] )\n",
        "print( a[2] )\n",
        "print( a[2][1] )\n",
        "# '파이썬'을 출력하려면?\n",
        "print(a[2])\n",
        "print(a[2][2][1])"
      ],
      "metadata": {
        "id": "dE18h8OHfhzH",
        "colab": {
          "base_uri": "https://localhost:8080/"
        },
        "outputId": "e3f41053-c1be-49ca-f423-8424451719aa"
      },
      "execution_count": null,
      "outputs": [
        {
          "output_type": "stream",
          "name": "stdout",
          "text": [
            "2\n",
            "['a', 'b', ['사랑해', '파이썬']]\n",
            "b\n",
            "['a', 'b', ['사랑해', '파이썬']]\n",
            "파이썬\n"
          ]
        }
      ]
    },
    {
      "cell_type": "markdown",
      "source": [
        "**리스트 요소 추가 / 변경**"
      ],
      "metadata": {
        "id": "CBiv_U9vfh9l"
      }
    },
    {
      "cell_type": "code",
      "source": [
        "print(a)\n",
        "a.append('봄')     # 리스트 맨 끝에 추가\n",
        "print(a)\n",
        "a.insert(1, '봄')  # 리스트명.insert(인덱스위치, 값)\n",
        "print(a)"
      ],
      "metadata": {
        "id": "i4_2rAyrfiGl"
      },
      "execution_count": null,
      "outputs": []
    },
    {
      "cell_type": "markdown",
      "source": [
        "**리스트 요소 삭제**"
      ],
      "metadata": {
        "id": "k211ATQqf5Ol"
      }
    },
    {
      "cell_type": "code",
      "source": [
        "print(a)\n",
        "a.pop()     # 리스트 맨 끝 요소 삭제\n",
        "print(a)\n",
        "a.remove('봄')  # 리스트명.remove(값), 단 여러 개 일 경우 첫 번째만 삭제됨\n",
        "print(a)"
      ],
      "metadata": {
        "id": "jb18botVf5V-"
      },
      "execution_count": null,
      "outputs": []
    },
    {
      "cell_type": "markdown",
      "source": [
        "### **[딕셔너리]**"
      ],
      "metadata": {
        "id": "DTsiTSprfPtQ"
      }
    },
    {
      "cell_type": "markdown",
      "source": [
        "**딕셔너리 키(key)와 값(value)에 접근하기**"
      ],
      "metadata": {
        "id": "n5XA-oqKgARN"
      }
    },
    {
      "cell_type": "code",
      "source": [
        "scores = {'국어': 100, '수학': 90, '영어': 80}\n",
        "\n",
        "print(scores['국어'])  # 딕셔너리는 키로 접근한다.\n",
        "\n",
        "# 방법1\n",
        "print('---방법1---')\n",
        "for key in scores:\n",
        "    print('%s => %s' % (key, scores[key]))\n",
        "\n",
        "# 방법2\n",
        "print('---방법2---')\n",
        "for key, value in scores.items():\n",
        "    print('%s => %s' % (key, value))"
      ],
      "metadata": {
        "id": "JcVVvEfAgA77"
      },
      "execution_count": null,
      "outputs": []
    },
    {
      "cell_type": "code",
      "source": [
        "print(scores.keys())   # 키만 추출\n",
        "print(scores.values()) # 키만 추출\n",
        "print(scores.items())  # (키,값)쌍 형태로 추출"
      ],
      "metadata": {
        "id": "yqlgBr22gH_7"
      },
      "execution_count": null,
      "outputs": []
    },
    {
      "cell_type": "markdown",
      "source": [
        "**딕셔너리에 요소 추가/수정/삭제**"
      ],
      "metadata": {
        "id": "ZRDlQlqOgBDO"
      }
    },
    {
      "cell_type": "code",
      "source": [
        "# 키로 요소 추가하기\n",
        "scores['music'] = 100\n",
        "print(scores)\n",
        "\n",
        "# 요소 값 수정하기\n",
        "scores['수학'] = 99\n",
        "print(scores)\n",
        "\n",
        "# 요소 삭제하기\n",
        "del (scores['영어'])\n",
        "print(scores)"
      ],
      "metadata": {
        "id": "DVW8BQbAgBKR"
      },
      "execution_count": null,
      "outputs": []
    },
    {
      "cell_type": "markdown",
      "metadata": {
        "id": "0SWp1LN08GGY"
      },
      "source": [
        "------"
      ]
    },
    {
      "cell_type": "markdown",
      "metadata": {
        "id": "x4FIhV_y8GGZ"
      },
      "source": [
        "### 2-2. 조건문과 반목문으로 흐름 제어하기"
      ]
    },
    {
      "cell_type": "markdown",
      "metadata": {
        "id": "LPe_skHf8GGZ"
      },
      "source": [
        "### **[조건문]**"
      ]
    },
    {
      "cell_type": "markdown",
      "metadata": {
        "id": "Ar6JKwtB8GGZ"
      },
      "source": [
        "#### 실습문제 : 짝수 홀수 판별하기\n",
        "숫자를 입력 받아 짝수/홀수를 판별하는 코드를 만들어 보세요."
      ]
    },
    {
      "cell_type": "code",
      "execution_count": null,
      "metadata": {
        "id": "09w2BCcN8GGZ"
      },
      "outputs": [],
      "source": [
        "x = int(input('숫자를 입력해 주세요: '))\n",
        "\n",
        "if x % 2 == 0:\n",
        "    print('입력된 수 : %d ==> 짝수' % x)\n",
        "else:\n",
        "    print('입력된 수 : %d ==> 홀수' % x)"
      ]
    },
    {
      "cell_type": "markdown",
      "metadata": {
        "id": "kJuobsMS8GGZ"
      },
      "source": [
        "#### 실습문제 : 직각 삼각형 판별하기\n",
        "피타고라스 정리에 의해 직각삼각형의 세 변의 길이에 대한 관계는 아래와 같습니다. 이 정리를 이용하여 세 변의 길이를 입력 받은 삼각형이 직각삼각형인지 아닌지 판별하는 프로그램을 만들어 보세요"
      ]
    },
    {
      "cell_type": "code",
      "execution_count": 20,
      "metadata": {
        "id": "YWDF2qmn8GGZ",
        "outputId": "55db52c1-693e-4153-9f4a-4045682a8aca",
        "colab": {
          "base_uri": "https://localhost:8080/"
        }
      },
      "outputs": [
        {
          "output_type": "stream",
          "name": "stdout",
          "text": [
            "변 a의 길이: 3\n",
            "변 b의 길이: 4\n",
            "변 c의 길이: 5\n",
            "--------------------------------------------------\n",
            "직각삼각형입니다.\n"
          ]
        }
      ],
      "source": [
        "a= int(input('변 a의 길이: '))\n",
        "b= int(input('변 b의 길이: '))\n",
        "c= int(input('변 c의 길이: '))\n",
        "print('-' * 50)\n",
        "if a**2 + b**2 == c**2:\n",
        "    print('직각삼각형입니다.')\n",
        "else:\n",
        "    print('아님')\n"
      ]
    },
    {
      "cell_type": "markdown",
      "source": [
        "#### if와 else 문장을 --> elif 문장으로 변환하기"
      ],
      "metadata": {
        "id": "Q31ZlqMchT2f"
      }
    },
    {
      "cell_type": "markdown",
      "source": [
        "### 실습문제 : 커피 자판기 조건문\n",
        "아래 조건을 만족하는 커피 자동주문 머신을 만들어보세요.<br><br>\n",
        "[커피 자동주문 머신]<br>\n",
        "친구들과 현금 커피 자동주문 머신 앞에서\n",
        " - 아메리카노 2잔과 카페라테 2잔 카푸치노 1잔을 주문하였다.\n",
        " - 아메리카노 한잔에 2500원이고\n",
        " - 카페라테는 한잔에 3000원\n",
        " - 카푸치노는 한잔에 3000원이다.\n",
        "커피 종류와 잔 수를 결정한 후 현금 15000원을 투입하고 잔돈을 1000원 받았다."
      ],
      "metadata": {
        "id": "3SDdg7Aeg7MW"
      }
    },
    {
      "cell_type": "code",
      "source": [
        "menu = '''[커피 자동주문 머신 메뉴]\n",
        "------------------------------------------------------------\n",
        "-아메리카노는 2500원\n",
        "-카레라떼는 3000원\n",
        "-카푸치노는 3000원\n",
        "입니다. 원하시는 커피종류와 잔수를 입력하세요.\n",
        "------------------------------------------------------------'''\n",
        "print(menu)\n",
        "coffee1 = int(input(\"아메리카노 몇잔????\"))\n",
        "coffee2 = int(input(\"카페라떼 몇잔????\"))\n",
        "coffee3 = int(input(\"카푸치노 몇잔????\"))\n",
        "sum = coffee1*2500 + coffee2*3000 + coffee3*3000\n",
        "print(\"지불할 총 금액은 \", sum, \"원 입니다\")\n",
        "print('----------------------------------------------------')\n",
        "money = int(input(\"돈을 넣어주세요~~~~~~~~~~~~~~~~: \"))\n",
        "change = money - sum\n",
        "if change < 0:\n",
        "    print(\"입력한 금액이 부족합니다. \", change*-1, \"원을 더 넣어주세요.\")\n",
        "else:\n",
        "    print(\"거스름돈은 \", change, \"원 입니다\")"
      ],
      "metadata": {
        "id": "9m8hAaSMhUId"
      },
      "execution_count": null,
      "outputs": []
    },
    {
      "cell_type": "code",
      "source": [],
      "metadata": {
        "id": "-GJkqPJAEHZQ"
      },
      "execution_count": null,
      "outputs": []
    },
    {
      "cell_type": "code",
      "source": [
        "# if elif 문장\n",
        "pocket = ['paper', 'handphone']\n",
        "card = True\n",
        "\n",
        "if 'money' in pocket:\n",
        "    print('택시를 타고 가세요')\n",
        "elif card:\n",
        "    print('택시를 타고 가세요')\n",
        "else:\n",
        "    print('걸어서 가세요')"
      ],
      "metadata": {
        "id": "JGZXfbdNhgJN"
      },
      "execution_count": null,
      "outputs": []
    },
    {
      "cell_type": "markdown",
      "source": [
        "#### 조건부 표현식"
      ],
      "metadata": {
        "id": "Io13oQKLhgph"
      }
    },
    {
      "cell_type": "code",
      "source": [
        "score = int(input('점수를 입력하세요: '))\n",
        "message = \"success!\" if score >=60 else \"failure!\"\n",
        "print(message)"
      ],
      "metadata": {
        "id": "h0V6WqWchnTA"
      },
      "execution_count": null,
      "outputs": []
    },
    {
      "cell_type": "markdown",
      "metadata": {
        "id": "4RoolGBF8GGa"
      },
      "source": [
        "------"
      ]
    },
    {
      "cell_type": "markdown",
      "metadata": {
        "id": "G2T6Nybt8GGa"
      },
      "source": [
        "### **[반복문-for]**"
      ]
    },
    {
      "cell_type": "markdown",
      "metadata": {
        "id": "HuWJNA-T8GGa"
      },
      "source": [
        "#### 실습문제 : 1~N까지 합계 구하기\n",
        "숫자를 입력받아 1~n까지의 합을 구할 때 짝수를 제외하고 합을 구하는 프로그램을 만들어 보세요."
      ]
    },
    {
      "cell_type": "code",
      "execution_count": null,
      "metadata": {
        "id": "t4NbQOOe8GGa"
      },
      "outputs": [],
      "source": [
        "\n",
        "\n"
      ]
    },
    {
      "cell_type": "markdown",
      "source": [
        "### [실습문제] turtle로 정오각형 그리기\n",
        "#### 주의! : turtle은 가능한 IDLE 또는 에디터에서 사용한다.\n",
        "Turtle 이용해서 정오각형을 그리는 코드이다. 이것을 for 반복문을 이용하여 코드를 줄여보세요."
      ],
      "metadata": {
        "id": "h93aJfzOiJEc"
      }
    },
    {
      "cell_type": "code",
      "source": [
        "import turtle\n",
        "\n",
        "t=turtle.Pen()    # 펜블럭\n",
        "# t.shape('turtle') # 커서 모양\n",
        "# t.color('red')    # 선 색생\n",
        "# t.pensize(5)      # 선 굵기\n",
        "\n",
        "t.forward(100)\n",
        "t.right(72)\n",
        "t.forward(100)\n",
        "t.right(72)\n",
        "t.forward(100)\n",
        "t.right(72)\n",
        "t.forward(100)\n",
        "t.right(72)\n",
        "t.forward(100)\n",
        "t.right(72)\n",
        "\n",
        "turtle.exitonclick()"
      ],
      "metadata": {
        "id": "Qb9JdImXiJQ8"
      },
      "execution_count": null,
      "outputs": []
    },
    {
      "cell_type": "code",
      "source": [
        "import turtle\n",
        "\n",
        "t=turtle.Pen()    # 펜블럭\n",
        "\n",
        "t.shape('turtle') # 커서 모양\n",
        "t.color('blue')    # 선 색생\n",
        "t.pensize(5)      # 선 굵기\n",
        "\n",
        "for i in range(5):\n",
        "    t.forward(100)\n",
        "    t.right(360/5)\n",
        "\n",
        "turtle.exitonclick()"
      ],
      "metadata": {
        "id": "NvZvK4qiiQCS"
      },
      "execution_count": null,
      "outputs": []
    },
    {
      "cell_type": "code",
      "source": [
        "#벌집 그리기\n",
        "import turtle\n",
        "\n",
        "t=turtle.Turtle()\n",
        "# t.up()\n",
        "# t.goto(-30, 50)\n",
        "# t.down()\n",
        "\n",
        "def honeycomb(): # 벌집 그리기\n",
        "    for i in range(6):\n",
        "        for _ in range(6):\n",
        "            t.forward(100)\n",
        "            t.left(60)\n",
        "        t.forward(100)\n",
        "        t.right(60)\n",
        "\n",
        "honeycomb()\n",
        "turtle.exitonclick()"
      ],
      "metadata": {
        "id": "yB44V9CfiTUa"
      },
      "execution_count": null,
      "outputs": []
    },
    {
      "cell_type": "code",
      "source": [
        "# 마우스로 클릭한 위치에 별 그리기\n",
        "import turtle\n",
        "t = turtle.Turtle()\n",
        "\n",
        "t.speed(0)  # 0: 그리기 속도 가장 빠르게\n",
        "t.screen.bgcolor('black')\n",
        "t.color('yellow') # (거북이)그리기 색상 노랑\n",
        "t.clear()         # 화면 지우기\n",
        "t.penup()\n",
        "\n",
        "# 별 그리기\n",
        "def drawStar(x, y):\n",
        "    t.goto(x, y)\n",
        "    t.pendown()\n",
        "    t.begin_fill()\n",
        "    for _ in range(5):\n",
        "        t.forward(20)\n",
        "        t.right(144)\n",
        "    t.end_fill()\n",
        "    t.penup()\n",
        "\n",
        "# 마우스로 화면 클릭하기\n",
        "turtle.onscreenclick(drawStar)\n",
        "t.ht()\n",
        "\n",
        "# 화면에 포커스가 있는 상태 유지하기\n",
        "turtle.listen()"
      ],
      "metadata": {
        "id": "crtkrhFLiaEz"
      },
      "execution_count": null,
      "outputs": []
    },
    {
      "cell_type": "markdown",
      "source": [
        "### **[반복문-while]**"
      ],
      "metadata": {
        "id": "bIFYG9GZi1au"
      }
    },
    {
      "cell_type": "code",
      "execution_count": null,
      "metadata": {
        "scrolled": true,
        "id": "3AUjxAga8GGb",
        "outputId": "d3b87194-0c31-48cd-a3f0-0cd141cd4e77"
      },
      "outputs": [
        {
          "name": "stdout",
          "output_type": "stream",
          "text": [
            "더할 첫 번째 숫자: 10\n",
            "더할 두 번째 숫자: 20\n",
            "10 + 20 = 30\n",
            "더할 첫 번째 숫자: 55\n",
            "더할 두 번째 숫자: 30\n",
            "55 + 30 = 85\n",
            "더할 첫 번째 숫자: 0\n",
            "0을 입력해서 반복문을 탈출했습니다.\n"
          ]
        }
      ],
      "source": [
        "num1, num2 = 0, 0\n",
        "\n",
        "while True:\n",
        "    num1 = int(input(\"더할 첫 번째 숫자: \"))\n",
        "    if num1 == 0:\n",
        "        break\n",
        "    num2 = int(input(\"더할 두 번째 숫자: \"))\n",
        "\n",
        "    print(f'{num1} + {num2} = {num1 + num2}')\n",
        "\n",
        "print(\"0을 입력해서 반복문을 탈출했습니다.\")\n"
      ]
    },
    {
      "cell_type": "markdown",
      "source": [
        "### 실습문제 : 나무 열 번 찍어 넘기기"
      ],
      "metadata": {
        "id": "p7P0Vy-XjIBz"
      }
    },
    {
      "cell_type": "code",
      "source": [
        "\n",
        "\n",
        "\n"
      ],
      "metadata": {
        "id": "A1OSHn1tjNE5"
      },
      "execution_count": null,
      "outputs": []
    },
    {
      "cell_type": "markdown",
      "metadata": {
        "id": "xLogGjPX8GGb"
      },
      "source": [
        "#### 실습문제: 무한 반복 빠져나오기\n",
        "무한 반복문을 빠져나오기 위한 프로그램을 만들어 보세요"
      ]
    },
    {
      "cell_type": "code",
      "execution_count": null,
      "metadata": {
        "id": "yq1VvWQb8GGb"
      },
      "outputs": [],
      "source": [
        "prompt = \"\"\"\n",
        "    1.Add   2.Del   3.Modify   4.Quit\n",
        "\n",
        "    Enter number: \"\"\"   # 1.코드를 실행하면 출력되는 부분\n",
        "\n",
        "number = 0\n",
        "\n",
        "\n",
        "\n",
        "\n"
      ]
    },
    {
      "cell_type": "markdown",
      "metadata": {
        "id": "H3QS9PpM8GGb"
      },
      "source": [
        "#### 실습문제\n",
        "공을 일정 높이에서 던졌을 때, 원래 높이의 1/2만큼 튀어 오른다고 합니다. 그러다가 높이가 0.00001m보다 낮으면 튀어오르지 않는다고 합니다. while문을 이용하여 이 프로그램을 만들어 보세요."
      ]
    },
    {
      "cell_type": "code",
      "execution_count": null,
      "metadata": {
        "scrolled": true,
        "id": "nRTqUvpG8GGc"
      },
      "outputs": [],
      "source": [
        "length = int(input('공의 높이를 입력하세요(meter) : '))\n",
        "\n",
        "\n"
      ]
    },
    {
      "cell_type": "markdown",
      "metadata": {
        "id": "bBpYo7he8GGc"
      },
      "source": [
        "#### 실습문제 : 도둑잡기 게임 만들기\n",
        "경찰에 쫓기던 범인이 3개의 방 중에 한 곳에 숨어버렸습니다. 범인은 방문을 열 때마다 무작위로 3개의 방 중 하나의 방으로 이동합니다. 3개의 방 중 하나의 방을 선택했을 때 범인이 있다면 100점, 없을 때 -10점을 부여하고 범인을 잡으면 게임을 종료하는 프로그램을 만들어 보세요."
      ]
    },
    {
      "cell_type": "code",
      "execution_count": null,
      "metadata": {
        "id": "Yjs0Tp0m8GGc"
      },
      "outputs": [],
      "source": [
        "import random\n",
        "score = 0\n",
        "\n",
        "while True:  # 무한반복\n",
        "    # 1.무작위로 범인 방 배치\n",
        "\n",
        "\n",
        "\n",
        "    # 2.사용자로부터 방 번호 입력 받기\n",
        "\n",
        "\n",
        "\n",
        "    # 3.사용자가 입력한 방 번호와 범인이 있는 방 비교\n",
        "\n",
        "\n",
        "\n",
        "print('게임 종료!')        # 게임 종료 메시지 출력\n",
        "print(f'점수: {score} 점') # 최종 점수 출력"
      ]
    },
    {
      "cell_type": "markdown",
      "source": [
        "### 실습문제 :  커피 자동주문 프로그램 업그레이드\n",
        "앞에서 만들어 본 커피 자동주문 머신 프로그램을 while문을 이용하여 돈을 모두 지불할 때까지 돈을 입력 받도록 프로그램 기능 수정하기"
      ],
      "metadata": {
        "id": "iPCnjI9UkoHr"
      }
    },
    {
      "cell_type": "code",
      "source": [
        "menu = '''[커피 자동주문 머신 메뉴]\n",
        "------------------------------\n",
        "-아메리카노는 2500원\n",
        "-카레라떼는 3000원\n",
        "-카푸치노는 3000원\n",
        "입니다. 원하시는 커피종류와 잔수를 입력하세요.\n",
        "------------------------------'''\n",
        "print(menu)\n",
        "coffee1 = int(input(\"아메리카노 몇잔?\"))\n",
        "coffee2 = int(input(\"카페라떼 몇잔?\"))\n",
        "coffee3 = int(input(\"카푸치노 몇잔?\"))\n",
        "\n",
        "\n",
        "\n",
        "\n"
      ],
      "metadata": {
        "id": "HtKho6P3kxtS"
      },
      "execution_count": null,
      "outputs": []
    },
    {
      "cell_type": "markdown",
      "source": [
        "### **[난수(Random Number)]**"
      ],
      "metadata": {
        "id": "7GhEbWbZk7E6"
      }
    },
    {
      "cell_type": "markdown",
      "source": [
        "### 실습문제 : 임의의 두 수 합 구하기\n",
        "1부터 10까지의 범위를 갖는 임의의 두 정수 a, b를 더하여 결과 출력하기"
      ],
      "metadata": {
        "id": "AKBc_UvYk7Xj"
      }
    },
    {
      "cell_type": "code",
      "source": [
        "\n",
        "\n"
      ],
      "metadata": {
        "id": "C4ehMBmgk7pP"
      },
      "execution_count": null,
      "outputs": []
    },
    {
      "cell_type": "markdown",
      "source": [
        "### 실습문제 : 던져 나온 주사위의 눈금별 횟수 카운팅\n",
        "주사위를 100번 던져서 나오는 숫자를 각 숫자별로 카운트하고 가장 많이 나온 숫자와 그 숫자의 횟수를 출력하시오."
      ],
      "metadata": {
        "id": "cMhO5aWxlOF7"
      }
    },
    {
      "cell_type": "code",
      "source": [
        "\n",
        "\n",
        "\n"
      ],
      "metadata": {
        "id": "XUHOX-OzlONF"
      },
      "execution_count": null,
      "outputs": []
    },
    {
      "cell_type": "markdown",
      "metadata": {
        "id": "FTX-Fvb28GGc"
      },
      "source": [
        "------"
      ]
    },
    {
      "cell_type": "markdown",
      "metadata": {
        "id": "8tdBEUuy8GGe"
      },
      "source": [
        "### 2-3. 함수를 이용하여 알고리즘 만들기"
      ]
    },
    {
      "cell_type": "markdown",
      "metadata": {
        "id": "A50BCkk98GGe"
      },
      "source": [
        "### **[함수 & 모듈]**"
      ]
    },
    {
      "cell_type": "code",
      "execution_count": null,
      "metadata": {
        "id": "3gNw75bI8GGe"
      },
      "outputs": [],
      "source": [
        "def nSum(a, b):\n",
        "    c = a + b\n",
        "    return c\n",
        "\n",
        "nSum(50, 3)"
      ]
    },
    {
      "cell_type": "markdown",
      "source": [
        "####  함수의 구조\n",
        "매개변수와 리턴값에 따른 함수의 유형 예"
      ],
      "metadata": {
        "id": "ZH2oJDOzmgta"
      }
    },
    {
      "cell_type": "markdown",
      "source": [
        "- 매개변수(X), 리턴값(X)"
      ],
      "metadata": {
        "id": "ZVu_uCmBmwX9"
      }
    },
    {
      "cell_type": "code",
      "source": [
        "def func():\n",
        "    print('안녕하세요!')\n",
        "\n",
        "print( func() )"
      ],
      "metadata": {
        "id": "PhoFdGdpmg2i"
      },
      "execution_count": null,
      "outputs": []
    },
    {
      "cell_type": "markdown",
      "source": [
        "- 매개변수(X), 리턴값(O)"
      ],
      "metadata": {
        "id": "rYJvu1mKm1lA"
      }
    },
    {
      "cell_type": "code",
      "source": [
        "def func():\n",
        "    print('안녕하세요!')\n",
        "    return '처리완료!'\n",
        "\n",
        "print( func() )"
      ],
      "metadata": {
        "id": "RtmltcdOm1sg"
      },
      "execution_count": null,
      "outputs": []
    },
    {
      "cell_type": "markdown",
      "source": [
        "- 매개변수(O), 리턴값(X)"
      ],
      "metadata": {
        "id": "kAiXc3qom1zq"
      }
    },
    {
      "cell_type": "code",
      "source": [
        "def func(a, b):\n",
        "    print('덧셈: %d + %d = %d' % (a, b, a+b))\n",
        "\n",
        "print( func(5, 7) )"
      ],
      "metadata": {
        "id": "mdneVBp_m16L"
      },
      "execution_count": null,
      "outputs": []
    },
    {
      "cell_type": "markdown",
      "source": [
        "- 매개변수(O), 리턴값(O)"
      ],
      "metadata": {
        "id": "UWx5mc2Bm2Ah"
      }
    },
    {
      "cell_type": "code",
      "source": [
        "def func(a, b):\n",
        "    print('덧셈: %d + %d = %d' % (a, b, a+b))\n",
        "    return a+b\n",
        "\n",
        "print( func(5, 7) )"
      ],
      "metadata": {
        "id": "u40Eqnc1m2IB"
      },
      "execution_count": null,
      "outputs": []
    },
    {
      "cell_type": "markdown",
      "source": [
        "### 실습문제 : 암스트롱수 구하기\n",
        "다음 조건을 참고하여 암스트롱수를 구하는 함수를 만들어 출력하는 프로그램을 만들어 보세요.\n",
        "- **암스트롱수** : 세 자리의 정수 중에서 각 자리의 수를 세 제곱한 수의 합과 자신이 같은 수"
      ],
      "metadata": {
        "id": "Oq6XLdiqm9lV"
      }
    },
    {
      "cell_type": "code",
      "source": [
        "def is_armstringNumber(N):\n",
        "\n",
        "\n",
        "\n",
        "\n",
        "\n"
      ],
      "metadata": {
        "id": "DvFLshFqm9t8"
      },
      "execution_count": null,
      "outputs": []
    },
    {
      "cell_type": "markdown",
      "metadata": {
        "id": "Kvzu_J_a8GGf"
      },
      "source": [
        "#### 실습문제\n",
        "아래 조건을 만족하는 커피 자동주문 머신을 만들어보세요."
      ]
    },
    {
      "cell_type": "code",
      "execution_count": null,
      "metadata": {
        "scrolled": true,
        "id": "x1jdgfzq8GGf"
      },
      "outputs": [],
      "source": [
        "def coffeeMachine(coffee1, coffee2, coffee3):\n",
        "\n",
        "\n",
        "\n",
        "\n",
        "menu = '''[커피 자동주문 머신 메뉴]\n",
        "------------------------------\n",
        "-아메리카노는 2500원\n",
        "-카레라떼는 3000원\n",
        "-카푸치노는 3000원\n",
        "입니다. 원하시는 커피종류와 잔수를 입력하세요.\n",
        "------------------------------'''\n",
        "print(menu)\n",
        "coffee1 = int(input(\"아메리카노 몇잔?: \"))\n",
        "coffee2 = int(input(\"카페라떼 몇잔?: \"))\n",
        "coffee3 = int(input(\"카푸치노 몇잔?: \"))\n",
        "\n",
        "coffeeMachine(coffee1, coffee2, coffee3)"
      ]
    },
    {
      "cell_type": "markdown",
      "metadata": {
        "id": "Ajjvg18_8GGg"
      },
      "source": [
        "### 2-4. [미션] 응용 프로그램 만들기"
      ]
    },
    {
      "cell_type": "markdown",
      "metadata": {
        "id": "06eDtoTC8GGf"
      },
      "source": [
        "#### 실습문제\n",
        "아래 조건을 만족시키는 <영어단어장 만들기> 프로그램을 만들어 보세요.\n",
        "\n",
        "영단어는 key, 그의 뜻은 value 로 두는 dictionary 를 만드세요.<br>\n",
        "<메뉴>\n",
        " - 1. 단어 등록\n",
        " - 2. 단어 검색\n",
        " - 3. 단어 삭제\n",
        " - 4. 모든 단어 보기\n",
        " - 0. 종료하기\n",
        "\n",
        "1. 단어 등록 <br>\n",
        "    새 영단어와 그의 뜻을 입력 받고 dictionary 에 추가합니다.\n",
        "\n",
        "2. 단어 검색<br>\n",
        "    영단어를 입력 받아 그의 뜻을 출력합니다.<br>\n",
        "    미등록된 단어인 경우 '미등록 단어'를 출력합니다.\n",
        "    \n",
        "3. 단어 삭제<br>\n",
        "    영단어를 입력 받아 단어장에서 해당 단어를 삭제한다.<br>\n",
        "    미등록된 단어인 경우 '미등록 단어'를 출력합니다\n",
        "    \n",
        "4. 모든 단어 보기<br>\n",
        "    현재 등록되어 있는 모든 단어와 뜻을 출력합니다.\n",
        "\n",
        "0. 종료하기"
      ]
    },
    {
      "cell_type": "code",
      "execution_count": null,
      "metadata": {
        "id": "zEbKEifR8GGf"
      },
      "outputs": [],
      "source": [
        "\n"
      ]
    },
    {
      "cell_type": "markdown",
      "source": [
        "\n",
        "\n",
        "---\n",
        "THE END\n",
        "\n"
      ],
      "metadata": {
        "id": "SD7IuCtyEfxZ"
      }
    },
    {
      "cell_type": "markdown",
      "metadata": {
        "id": "RQoDVEJ38GGg"
      },
      "source": [
        "------"
      ]
    }
  ],
  "metadata": {
    "kernelspec": {
      "display_name": "Python 3",
      "language": "python",
      "name": "python3"
    },
    "language_info": {
      "codemirror_mode": {
        "name": "ipython",
        "version": 3
      },
      "file_extension": ".py",
      "mimetype": "text/x-python",
      "name": "python",
      "nbconvert_exporter": "python",
      "pygments_lexer": "ipython3",
      "version": "3.9.10"
    },
    "colab": {
      "provenance": [],
      "include_colab_link": true
    }
  },
  "nbformat": 4,
  "nbformat_minor": 0
}